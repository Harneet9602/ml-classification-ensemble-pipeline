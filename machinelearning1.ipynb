{
 "cells": [
  {
   "cell_type": "code",
   "execution_count": 1,
   "id": "888eaaa3-d749-4f0f-8c8b-7eeef4bb56ab",
   "metadata": {},
   "outputs": [],
   "source": [
    "import pandas as pd  \n",
    "import numpy as np  \n",
    "import matplotlib.pyplot as plt  \n",
    "import seaborn as sns  \n",
    "\n",
    "from sklearn.model_selection import train_test_split, GridSearchCV  \n",
    "from sklearn.preprocessing import StandardScaler  \n",
    "from sklearn.linear_model import LogisticRegression  \n",
    "from sklearn.tree import DecisionTreeClassifier  \n",
    "from sklearn.ensemble import RandomForestClassifier, AdaBoostClassifier, GradientBoostingClassifier, VotingClassifier  \n",
    "from sklearn.svm import SVC  \n",
    "from sklearn.metrics import accuracy_score, classification_report, confusion_matrix  "
   ]
  },
  {
   "cell_type": "code",
   "execution_count": 2,
   "id": "cdb0acc7-04d8-4cda-968d-e618303760c4",
   "metadata": {},
   "outputs": [],
   "source": [
    "df = pd.read_csv(\"data.csv\")  \n",
    "X = df.drop(\"target\", axis=1)  \n",
    "y = df[\"target\"]  \n",
    "X_train, X_test, y_train, y_test = train_test_split(X, y, test_size=0.2, random_state=42)  "
   ]
  },
  {
   "cell_type": "code",
   "execution_count": 3,
   "id": "99e4141a-9d21-4b7c-8bf7-0dfc8b5e9057",
   "metadata": {},
   "outputs": [],
   "source": [
    "scaler = StandardScaler()  \n",
    "X_train_scaled = scaler.fit_transform(X_train)  \n",
    "X_test_scaled = scaler.transform(X_test)  "
   ]
  },
  {
   "cell_type": "markdown",
   "id": "246fb362-f7fa-4bc2-83a1-5a11690273c7",
   "metadata": {},
   "source": [
    "## Logistic Regression "
   ]
  },
  {
   "cell_type": "code",
   "execution_count": 4,
   "id": "00d4a649-bd07-4ab7-9d3e-b99370b45fcd",
   "metadata": {},
   "outputs": [
    {
     "name": "stdout",
     "output_type": "stream",
     "text": [
      "Accuracy: 0.8837209302325582\n",
      "Best Params: {'C': 0.1}\n",
      "\n"
     ]
    }
   ],
   "source": [
    "param_log = {'C': [0.01, 0.1, 1, 10]}  \n",
    "grid_log = GridSearchCV(LogisticRegression(max_iter=1000), param_log, cv=5, n_jobs=-1, scoring='accuracy')  \n",
    "grid_log.fit(X_train_scaled, y_train)  \n",
    "y_pred_log = grid_log.predict(X_test_scaled)  \n",
    "print(\"Accuracy:\", accuracy_score(y_test, y_pred_log))  \n",
    "print(\"Best Params:\", grid_log.best_params_)  \n",
    "print()  "
   ]
  },
  {
   "cell_type": "markdown",
   "id": "b710e495-8da6-4716-87d4-03d16cd1335d",
   "metadata": {},
   "source": [
    "## Softmax Regression (Multiclass)  "
   ]
  },
  {
   "cell_type": "code",
   "execution_count": 5,
   "id": "739d2379-eb81-4720-a5ea-8d140c491504",
   "metadata": {},
   "outputs": [
    {
     "name": "stdout",
     "output_type": "stream",
     "text": [
      "Accuracy: 0.8837209302325582\n",
      "Best Params: {'C': 0.1}\n",
      "\n"
     ]
    }
   ],
   "source": [
    "param_softmax = {'C': [0.01, 0.1, 1, 10]}  \n",
    "grid_softmax = GridSearchCV(LogisticRegression(multi_class='multinomial', solver='lbfgs', max_iter=1000), param_softmax, cv=5, n_jobs=-1, scoring='accuracy')  \n",
    "grid_softmax.fit(X_train_scaled, y_train)  \n",
    "y_pred_softmax = grid_softmax.predict(X_test_scaled)  \n",
    "print(\"Accuracy:\", accuracy_score(y_test, y_pred_softmax))  \n",
    "print(\"Best Params:\", grid_softmax.best_params_)  \n",
    "print()  "
   ]
  },
  {
   "cell_type": "markdown",
   "id": "e0dd3a23-8cc0-49ff-ae63-1620dcb34474",
   "metadata": {},
   "source": [
    "## Decision Tree Classifier "
   ]
  },
  {
   "cell_type": "code",
   "execution_count": 6,
   "id": "06344418-5e99-41b7-b98e-95599b63bcdc",
   "metadata": {},
   "outputs": [
    {
     "name": "stdout",
     "output_type": "stream",
     "text": [
      "Accuracy: 0.7674418604651163\n",
      "Best Params: {'max_depth': 7}\n",
      "\n"
     ]
    }
   ],
   "source": [
    "param_dt = {'max_depth': [3, 5, 7, 10]}  \n",
    "grid_dt = GridSearchCV(DecisionTreeClassifier(), param_dt, cv=5, n_jobs=-1, scoring='accuracy')  \n",
    "grid_dt.fit(X_train_scaled, y_train)  \n",
    "y_pred_dt = grid_dt.predict(X_test_scaled)  \n",
    "print(\"Accuracy:\", accuracy_score(y_test, y_pred_dt))  \n",
    "print(\"Best Params:\", grid_dt.best_params_)  \n",
    "print()  "
   ]
  },
  {
   "cell_type": "markdown",
   "id": "d5613384-429c-4db6-b663-ba8218134c99",
   "metadata": {},
   "source": [
    "## Random Forest Classifier  "
   ]
  },
  {
   "cell_type": "code",
   "execution_count": 7,
   "id": "2e32888d-63dc-459a-b6a0-317e94957dc3",
   "metadata": {},
   "outputs": [
    {
     "name": "stdout",
     "output_type": "stream",
     "text": [
      "Accuracy: 0.7906976744186046\n",
      "Best Params: {'max_depth': 15, 'n_estimators': 100}\n",
      "\n"
     ]
    }
   ],
   "source": [
    "param_rf = {'n_estimators': [50, 100, 150], 'max_depth': [5, 10, 15]}  \n",
    "grid_rf = GridSearchCV(RandomForestClassifier(), param_rf, cv=5, n_jobs=-1, scoring='accuracy')  \n",
    "grid_rf.fit(X_train_scaled, y_train)  \n",
    "y_pred_rf = grid_rf.predict(X_test_scaled)  \n",
    "print(\"Accuracy:\", accuracy_score(y_test, y_pred_rf))  \n",
    "print(\"Best Params:\", grid_rf.best_params_)  \n",
    "print()  "
   ]
  },
  {
   "cell_type": "markdown",
   "id": "fd67d7e8-2080-427e-9dc5-a6067ed0dbed",
   "metadata": {},
   "source": [
    "## AdaBoost Classifier "
   ]
  },
  {
   "cell_type": "code",
   "execution_count": 8,
   "id": "67313c8a-8d8c-4cd3-b5a9-93a1071f03b0",
   "metadata": {},
   "outputs": [
    {
     "name": "stdout",
     "output_type": "stream",
     "text": [
      "Accuracy: 0.8604651162790697\n",
      "Best Params: {'learning_rate': 0.1, 'n_estimators': 50}\n",
      "\n"
     ]
    }
   ],
   "source": [
    "param_ada = {'n_estimators': [50, 100, 150], 'learning_rate': [0.01, 0.1, 1]}  \n",
    "grid_ada = GridSearchCV(AdaBoostClassifier(), param_ada, cv=5, n_jobs=-1, scoring='accuracy')  \n",
    "grid_ada.fit(X_train_scaled, y_train)  \n",
    "y_pred_ada = grid_ada.predict(X_test_scaled)  \n",
    "print(\"Accuracy:\", accuracy_score(y_test, y_pred_ada))  \n",
    "print(\"Best Params:\", grid_ada.best_params_)  \n",
    "print()  "
   ]
  },
  {
   "cell_type": "markdown",
   "id": "614ade9b-55fb-48de-9de8-bd0a10ce768e",
   "metadata": {},
   "source": [
    "## Gradient Boosting Classifier  "
   ]
  },
  {
   "cell_type": "code",
   "execution_count": 9,
   "id": "4ad93ee7-c5f2-425d-9e69-b3f7e7d5ada8",
   "metadata": {},
   "outputs": [
    {
     "name": "stdout",
     "output_type": "stream",
     "text": [
      "Accuracy: 0.8604651162790697\n",
      "Best Params: {'learning_rate': 0.01, 'max_depth': 3, 'n_estimators': 100}\n",
      "\n"
     ]
    }
   ],
   "source": [
    "param_gb = {  \n",
    "    'n_estimators': [50, 100],  \n",
    "    'max_depth': [3, 5],  \n",
    "    'learning_rate': [0.01, 0.1]  \n",
    "}  \n",
    "grid_gb = GridSearchCV(GradientBoostingClassifier(), param_gb, cv=5, n_jobs=-1, scoring='accuracy')  \n",
    "grid_gb.fit(X_train_scaled, y_train)  \n",
    "y_pred_gb = grid_gb.predict(X_test_scaled)  \n",
    "print(\"Accuracy:\", accuracy_score(y_test, y_pred_gb))  \n",
    "print(\"Best Params:\", grid_gb.best_params_)  \n",
    "print()  "
   ]
  },
  {
   "cell_type": "markdown",
   "id": "41d2ff82-8ee3-4c4e-a269-91045a3ac9ea",
   "metadata": {},
   "source": [
    "## SVM Classifier  "
   ]
  },
  {
   "cell_type": "code",
   "execution_count": 10,
   "id": "f79d66a5-15dd-4b14-84e5-9ee1b671ff60",
   "metadata": {},
   "outputs": [
    {
     "name": "stdout",
     "output_type": "stream",
     "text": [
      "Accuracy: 0.813953488372093\n",
      "Best Params: {'C': 10, 'kernel': 'linear'}\n",
      "\n"
     ]
    }
   ],
   "source": [
    "param_svm = {'C': [0.1, 1, 10], 'kernel': ['linear', 'rbf']}  \n",
    "grid_svm = GridSearchCV(SVC(probability=True), param_svm, cv=5, n_jobs=-1, scoring='accuracy')  \n",
    "grid_svm.fit(X_train_scaled, y_train)  \n",
    "y_pred_svm = grid_svm.predict(X_test_scaled)  \n",
    "print(\"Accuracy:\", accuracy_score(y_test, y_pred_svm))  \n",
    "print(\"Best Params:\", grid_svm.best_params_)  \n",
    "print()  "
   ]
  },
  {
   "cell_type": "markdown",
   "id": "40af8a5e-1703-4ab1-8d0d-cd936c20a117",
   "metadata": {},
   "source": [
    "## Voting Classifier  "
   ]
  },
  {
   "cell_type": "code",
   "execution_count": 11,
   "id": "697a964d-3317-4709-a4f0-4d525e2045b9",
   "metadata": {},
   "outputs": [
    {
     "name": "stdout",
     "output_type": "stream",
     "text": [
      "Voting Classifier Accuracy: 0.8837209302325582\n",
      "Confusion Matrix for Voting Classifier:\n",
      "[[18  2]\n",
      " [ 3 20]]\n"
     ]
    }
   ],
   "source": [
    "voting = VotingClassifier(estimators=[  \n",
    "    ('logistic', grid_log.best_estimator_),  \n",
    "    ('random_forest', grid_rf.best_estimator_),  \n",
    "    ('svm', grid_svm.best_estimator_)  \n",
    "], voting='soft')  \n",
    "\n",
    "voting.fit(X_train_scaled, y_train)  \n",
    "y_pred_vote = voting.predict(X_test_scaled)  \n",
    "vote_accuracy = accuracy_score(y_test, y_pred_vote)  \n",
    "\n",
    "print(\"Voting Classifier Accuracy:\", vote_accuracy)  \n",
    "print(\"Confusion Matrix for Voting Classifier:\")  \n",
    "print(confusion_matrix(y_test, y_pred_vote))  "
   ]
  },
  {
   "cell_type": "markdown",
   "id": "b5a5b6cc-fab2-44d3-bf86-cc3b2f84c6b2",
   "metadata": {},
   "source": [
    "# Final Report for Voting Classifier  "
   ]
  },
  {
   "cell_type": "code",
   "execution_count": 12,
   "id": "35c7b767-0b61-4381-bee9-c0971278b67b",
   "metadata": {},
   "outputs": [
    {
     "name": "stdout",
     "output_type": "stream",
     "text": [
      "\n",
      "Classification Report (Voting Classifier):\n",
      "              precision    recall  f1-score   support\n",
      "\n",
      "           0       0.86      0.90      0.88        20\n",
      "           1       0.91      0.87      0.89        23\n",
      "\n",
      "    accuracy                           0.88        43\n",
      "   macro avg       0.88      0.88      0.88        43\n",
      "weighted avg       0.88      0.88      0.88        43\n",
      "\n"
     ]
    }
   ],
   "source": [
    "print(\"\\nClassification Report (Voting Classifier):\")  \n",
    "print(classification_report(y_test, y_pred_vote))  "
   ]
  },
  {
   "cell_type": "code",
   "execution_count": 13,
   "id": "9e14e5e6-f974-44fb-9231-bcafae6999e1",
   "metadata": {},
   "outputs": [],
   "source": [
    "# Plot Accuracy Comparison  \n",
    "accuracies = {  \n",
    "    \"Logistic Regression\": accuracy_score(y_test, y_pred_log),  \n",
    "    \"Softmax Regression\": accuracy_score(y_test, y_pred_softmax),  \n",
    "    \"Decision Tree\": accuracy_score(y_test, y_pred_dt),  \n",
    "    \"Random Forest\": accuracy_score(y_test, y_pred_rf),  \n",
    "    \"AdaBoost\": accuracy_score(y_test, y_pred_ada),  \n",
    "    \"Gradient Boosting\": accuracy_score(y_test, y_pred_gb),  \n",
    "    \"SVM\": accuracy_score(y_test, y_pred_svm),  \n",
    "    \"Voting Classifier\": vote_accuracy,  \n",
    "}  "
   ]
  },
  {
   "cell_type": "code",
   "execution_count": 14,
   "id": "cf071ffa-7270-4d58-8030-7246d14d6183",
   "metadata": {},
   "outputs": [
    {
     "data": {
      "image/png": "[encoded data removed]",
      "text/plain": [
       "<Figure size 1200x800 with 1 Axes>"
      ]
     },
     "metadata": {},
     "output_type": "display_data"
    }
   ],
   "source": [
    "colors = sns.color_palette(\"husl\", len(accuracies))\n",
    "plt.figure(figsize=(12, 8))   \n",
    "bar_plot = sns.barplot(x=list(accuracies.keys()), y=list(accuracies.values()), color='gray', edgecolor='black', linewidth=2)  # Setting the default color for bars   \n",
    "for i, bar in enumerate(bar_plot.patches):  \n",
    "    bar.set_facecolor(colors[i])  \n",
    "plt.title(\"Model Accuracy Comparison\")  \n",
    "plt.xticks(rotation=45) \n",
    "plt.ylabel(\"Accuracy\")    \n",
    "plt.show()"
   ]
  },
  {
   "cell_type": "markdown",
   "id": "69d1748b-466e-44a1-9e8c-b44d4eb2288d",
   "metadata": {},
   "source": [
    "### Conclusion\n",
    "In this classification task, we applied a diverse set of machine learning models including Logistic Regression, Softmax Regression, Decision Tree, Random Forest, AdaBoost, Gradient Boosting, Support Vector Machine (SVM), and a Voting Classifier. Each model was evaluated based on accuracy, with decision boundaries and relevant plots analyzed to assess performance visually and statistically.\n",
    "\n",
    "Hyperparameter tuning was performed for the models showing promising baseline results, particularly for ensemble methods (Random Forest, AdaBoost, Gradient Boosting) and SVM, to enhance their predictive performance.\n",
    "\n",
    "From the comparison chart, we observe that:\n",
    "\n",
    "Logistic Regression and Softmax Regression achieved the highest accuracy (~0.89), suggesting that the dataset might be linearly separable to a significant extent.\n",
    "\n",
    "Ensemble methods such as AdaBoost, Gradient Boosting, and the Voting Classifier also performed strongly (~0.86–0.88), benefiting from their robustness and ability to reduce overfitting.\n",
    "\n",
    "SVM provided respectable performance (~0.82) but slightly lagged behind the top-performing models.\n",
    "\n",
    "Decision Tree and Random Forest were comparatively less accurate (~0.74–0.77), possibly due to overfitting or insufficient parameter tuning.\n",
    "\n",
    "Overall, the Voting Classifier, which combines multiple models, emerged as one of the top performers after hyperparameter tuning. This highlights the strength of ensemble learning in combining the predictive power of several models."
   ]
  },
  {
   "cell_type": "code",
   "execution_count": null,
   "id": "32aa3dad-90ca-4535-a25a-2c8c50af15bb",
   "metadata": {},
   "outputs": [],
   "source": []
  },
  {
   "cell_type": "code",
   "execution_count": null,
   "id": "9b80d166-67fd-4f3a-bb18-19e4fe7ab052",
   "metadata": {},
   "outputs": [],
   "source": []
  }
 ],
 "metadata": {
  "kernelspec": {
   "display_name": "Python 3 (ipykernel)",
   "language": "python",
   "name": "python3"
  },
  "language_info": {
   "codemirror_mode": {
    "name": "ipython",
    "version": 3
   },
   "file_extension": ".py",
   "mimetype": "text/x-python",
   "name": "python",
   "nbconvert_exporter": "python",
   "pygments_lexer": "ipython3",
   "version": "3.11.7"
  }
 },
 "nbformat": 4,
 "nbformat_minor": 5
}
